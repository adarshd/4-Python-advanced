{
 "cells": [
  {
   "cell_type": "markdown",
   "metadata": {},
   "source": [
    "# In class exercise: imports, kmers, and *de_bruijn* graphs"
   ]
  },
  {
   "cell_type": "code",
   "execution_count": null,
   "metadata": {},
   "outputs": [],
   "source": [
    "import random\n",
    "import toyplot\n",
    "LAYOUT = toyplot.layout.FruchtermanReingold(edges=toyplot.layout.CurvedEdges())\n"
   ]
  },
  {
   "cell_type": "markdown",
   "metadata": {},
   "source": [
    "### kmers and the debruijn graph\n",
    "\n",
    "kmers are substrings of length k of a larger string. The de Bruijn graph is a mathematical construct used in genome assembly and other network based problems. It relies on the conjecture that a sequence can be reconstructed by substrings of that sequence if all substrings are present and they overlap by n-1. One example type of substring would be a genomic short read sequence. However, these may not overlap perfectly by n-1. But, we can use smaller kmers from those reads to get more substrings that may overlap by n-1 and thus be used to reconstruct the sequence. See image for example. \n",
    "\n",
    "\n",
    "\n",
    "![image.png](https://upload.wikimedia.org/wikipedia/commons/thumb/5/53/K-mer-example.png/440px-K-mer-example.png)\n",
    "https://en.wikipedia.org/wiki/K-mer"
   ]
  },
  {
   "cell_type": "markdown",
   "metadata": {},
   "source": [
    "### Genome/contig assembly\n",
    "In this notebook we are going to write functions to assemble a contig from a set of reads broken into kmers. "
   ]
  },
  {
   "cell_type": "markdown",
   "metadata": {},
   "source": [
    "### (1) Write a function to generate a random sequence of dna\n"
   ]
  },
  {
   "cell_type": "code",
   "execution_count": null,
   "metadata": {},
   "outputs": [],
   "source": [
    "def random_sequence(nbases):\n",
    "    return "
   ]
  },
  {
   "cell_type": "markdown",
   "metadata": {},
   "source": [
    "### (2) Write a function to return all kmers for a string\n",
    "Return the kmers as a count dictionary with the number of times each kmer was observed. "
   ]
  },
  {
   "cell_type": "code",
   "execution_count": null,
   "metadata": {},
   "outputs": [],
   "source": [
    "def get_kmers(target):\n",
    "    return "
   ]
  },
  {
   "cell_type": "markdown",
   "metadata": {},
   "source": [
    "### (3) Test our function on a random sequence"
   ]
  },
  {
   "cell_type": "code",
   "execution_count": null,
   "metadata": {},
   "outputs": [],
   "source": [
    "target = random_sequence(50)\n",
    "kmers = get_kmers(target, 3)\n",
    "kmers"
   ]
  },
  {
   "cell_type": "markdown",
   "metadata": {},
   "source": [
    "### (4) Write a function to generate sequence reads of len N\n",
    "This will take arguments `nreads` and `readlength`. "
   ]
  },
  {
   "cell_type": "code",
   "execution_count": null,
   "metadata": {},
   "outputs": [],
   "source": [
    "def get_random_reads(nreads, readlength):\n",
    "    return "
   ]
  },
  {
   "cell_type": "markdown",
   "metadata": {},
   "source": [
    "### (5) A function to break reads into kmers"
   ]
  },
  {
   "cell_type": "code",
   "execution_count": null,
   "metadata": {},
   "outputs": [],
   "source": [
    "def reads_to_kmers(reads, k):\n",
    "    \"stores kmers to dict uses .update() to join together kmer dict keys\"\n",
    "    kmers = {}\n",
    "    #...\n",
    "    return kmers"
   ]
  },
  {
   "cell_type": "markdown",
   "metadata": {},
   "source": [
    "### (6) Test our functions"
   ]
  },
  {
   "cell_type": "code",
   "execution_count": null,
   "metadata": {},
   "outputs": [],
   "source": [
    "## params \n",
    "tlen = 100\n",
    "nreads = 200\n",
    "rlen = 25\n",
    "k = 8\n",
    "\n",
    "## call funcs\n",
    "random.seed(123)\n",
    "target = random_sequence(tlen)\n",
    "reads = get_random_reads(target, nreads, rlen)\n",
    "kmers = reads_to_kmers(reads, k)"
   ]
  },
  {
   "cell_type": "code",
   "execution_count": null,
   "metadata": {},
   "outputs": [],
   "source": [
    "kmers.keys()"
   ]
  },
  {
   "cell_type": "markdown",
   "metadata": {},
   "source": [
    "### (7) Write a function to return a debruijn graph \n",
    "This should return a list of tuples where each tuple is a (kmer, kmer) pair where the two kmers overlap identically over n-1 of their length. This is the definition of a [deBruijn graph](https://en.wikipedia.org/wiki/De_Bruijn_graph). Use two nested for loops to compare all kmers to each other. Use slicing to compare the `[1:]` index to the `[:-1]` index of the other to test for `n-1` overlap.  "
   ]
  },
  {
   "cell_type": "code",
   "execution_count": null,
   "metadata": {},
   "outputs": [],
   "source": [
    "def get_debruijn_edges(kmers):\n",
    "    edges = set()\n",
    "    # ...\n",
    "    return edges"
   ]
  },
  {
   "cell_type": "code",
   "execution_count": null,
   "metadata": {},
   "outputs": [],
   "source": [
    "edges = get_debruijn_edges(kmers)\n",
    "edges"
   ]
  },
  {
   "cell_type": "markdown",
   "metadata": {},
   "source": [
    "### (8) Plot the deBruijn graph\n",
    "Use the toyplot function below to plot the deBruijn graph generated with the following code. "
   ]
  },
  {
   "cell_type": "code",
   "execution_count": null,
   "metadata": {},
   "outputs": [],
   "source": [
    "def plot_debruijn_graph(edges):\n",
    "    \"returns a toyplot graph of edges\"\n",
    "    graph = toyplot.graph(\n",
    "        [i[0] for i in edges],\n",
    "        [i[1] for i in edges],\n",
    "        tmarker=\">\", \n",
    "        width=600,\n",
    "        vlstyle={\"font-size\": \"8px\"},\n",
    "        layout=LAYOUT)\n",
    "    return graph"
   ]
  },
  {
   "cell_type": "code",
   "execution_count": null,
   "metadata": {},
   "outputs": [],
   "source": [
    "## plot as directed graph\n",
    "plot_debruijn_graph(edges);"
   ]
  },
  {
   "cell_type": "markdown",
   "metadata": {},
   "source": [
    "### (9) Test for a eulerian path\n",
    "When there are many repeats in a sequence then there may be multiple paths through the graph that touch each edge once. Or, if the graph is not complete, for example if there are too few kmers to complete the graph, then a full eulerian path between all kmers cannot be found. The function to find the eulerian path is a bit complicated so for now we will just import a working \n"
   ]
  },
  {
   "cell_type": "code",
   "execution_count": null,
   "metadata": {},
   "outputs": [],
   "source": [
    "from eulerian import eulerian_path\n",
    "\n",
    "## this will raise an error if the path does not exist\n",
    "path = eulerian_path(edges)"
   ]
  },
  {
   "cell_type": "markdown",
   "metadata": {},
   "source": [
    "### Exporting function to .py files\n",
    "Follow the lecture instructions to now copy all of the functions we defined above into a new text file which you can create from your jupyter dashboard by selecting `[new]/[text file]`.\n",
    "We will then try using these functions again imported from our new python file. It is important that you name the file `debruijn.py`. "
   ]
  },
  {
   "cell_type": "markdown",
   "metadata": {},
   "source": [
    "### Imports: testing on a simple example "
   ]
  },
  {
   "cell_type": "code",
   "execution_count": null,
   "metadata": {},
   "outputs": [],
   "source": [
    "import debruijn"
   ]
  },
  {
   "cell_type": "code",
   "execution_count": null,
   "metadata": {},
   "outputs": [],
   "source": [
    "target = \"AAABBBBA\"\n",
    "kmers = debruijn.get_kmers(target, 3)\n",
    "kmers"
   ]
  },
  {
   "cell_type": "code",
   "execution_count": null,
   "metadata": {},
   "outputs": [],
   "source": [
    "edges = debruijn.get_debruijn_edges(kmers)\n",
    "edges"
   ]
  },
  {
   "cell_type": "code",
   "execution_count": null,
   "metadata": {},
   "outputs": [],
   "source": [
    "plot_debruijn_graph(edges);"
   ]
  },
  {
   "cell_type": "markdown",
   "metadata": {},
   "source": [
    "### Repeats can create ambiguity in the de Bruijn graph\n",
    "The de Bruijn graph represents a path to contructing the full genome by walking the path along directed edges to each node. This includes cylic walks along repeated elements (e.g., AA to AA) although such moves do not appear super clearly in plots we've generated. Repeat elements are particularly troubling for de bruijn graphs because they create ambiguity where there can be more than one way to walk across all edges of the graph. Let's test assembling a large sequence by decomposing kmers of different size from a different depth of 50 bp reads. "
   ]
  },
  {
   "cell_type": "code",
   "execution_count": null,
   "metadata": {},
   "outputs": [],
   "source": [
    "import debruijn\n",
    "import eulerian\n",
    "import random\n",
    "\n",
    "random.seed(123)\n",
    "target = debruijn.random_sequence(500)"
   ]
  },
  {
   "cell_type": "code",
   "execution_count": null,
   "metadata": {},
   "outputs": [],
   "source": [
    "## a dictionary to store our results\n",
    "results = {}\n",
    "\n",
    "## iterate over kmer sizes\n",
    "for kmersize in [10, 30, 100]:\n",
    "    for nreads in [50, 100, 500, 1000]:\n",
    "        \n",
    "        ## store zero starting value\n",
    "        name = (kmersize, nreads)\n",
    "        results[name] = 0\n",
    "        \n",
    "        ## test over multiple replicates\n",
    "        for replicate in range(10):\n",
    "            \n",
    "            ## call funcs\n",
    "            reads = debruijn.get_reads(target, nreads=nreads, rlen=50)\n",
    "            kmers = debruijn.reads_to_kmers(reads, kmersize)\n",
    "            edges = debruijn.get_debruijn_edges(kmers)\n",
    "            \n",
    "            ## test for eulerian walk\n",
    "            try:\n",
    "                path = eulerian.eulerian_path(edges)\n",
    "                results[name] += 1\n",
    "                   \n",
    "            except Exception:\n",
    "                pass\n",
    "                        "
   ]
  },
  {
   "cell_type": "code",
   "execution_count": null,
   "metadata": {},
   "outputs": [],
   "source": [
    "## show results\n",
    "results"
   ]
  },
  {
   "cell_type": "markdown",
   "metadata": {},
   "source": [
    "### How does kmer size affect the results?\n",
    "\n",
    "https://en.wikipedia.org/wiki/K-mer"
   ]
  }
 ],
 "metadata": {
  "kernelspec": {
   "display_name": "Python 3",
   "language": "python",
   "name": "python3"
  },
  "language_info": {
   "codemirror_mode": {
    "name": "ipython",
    "version": 3
   },
   "file_extension": ".py",
   "mimetype": "text/x-python",
   "name": "python",
   "nbconvert_exporter": "python",
   "pygments_lexer": "ipython3",
   "version": "3.5.4"
  }
 },
 "nbformat": 4,
 "nbformat_minor": 2
}

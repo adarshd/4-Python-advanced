{
 "cells": [
  {
   "cell_type": "markdown",
   "metadata": {},
   "source": [
    "### Assignment 3 review"
   ]
  },
  {
   "cell_type": "code",
   "execution_count": 1,
   "metadata": {},
   "outputs": [],
   "source": [
    "import requests\n",
    "import gzip"
   ]
  },
  {
   "cell_type": "markdown",
   "metadata": {},
   "source": [
    "#### 3.1: Download iris data set to file"
   ]
  },
  {
   "cell_type": "code",
   "execution_count": 14,
   "metadata": {},
   "outputs": [],
   "source": [
    "url = \"http://eaton-lab.org/data/iris-data-dirty.csv\"\n",
    "with open(\"iris-data-dirty.csv\", 'w') as out:\n",
    "    out.write(requests.get(url).text)"
   ]
  },
  {
   "cell_type": "markdown",
   "metadata": {},
   "source": [
    "#### 3.2: read iris data to string object"
   ]
  },
  {
   "cell_type": "code",
   "execution_count": 16,
   "metadata": {},
   "outputs": [],
   "source": [
    "with open(\"iris-data-dirty.csv\", 'r') as indata:\n",
    "    data = indata.read()"
   ]
  },
  {
   "cell_type": "markdown",
   "metadata": {},
   "source": [
    "#### 3.3: replace misspelled taxon names"
   ]
  },
  {
   "cell_type": "code",
   "execution_count": 19,
   "metadata": {},
   "outputs": [],
   "source": [
    "data = data.replace(\"setsa\", \"setosa\").replace(\"colour\", \"color\")\n"
   ]
  },
  {
   "cell_type": "markdown",
   "metadata": {},
   "source": [
    "#### 3.4: split the string to a list  (.strip() only needed for Py2.7)"
   ]
  },
  {
   "cell_type": "code",
   "execution_count": 22,
   "metadata": {},
   "outputs": [],
   "source": [
    "ldata = data.strip().split()"
   ]
  },
  {
   "cell_type": "markdown",
   "metadata": {},
   "source": [
    "#### 3.5: remove any NA lines from list"
   ]
  },
  {
   "cell_type": "code",
   "execution_count": 23,
   "metadata": {},
   "outputs": [],
   "source": [
    "ldata = [i for i in ldata if \"NA\" not in i]\n"
   ]
  },
  {
   "cell_type": "markdown",
   "metadata": {},
   "source": [
    "#### 3.6: concatenate back into string separated by '\\n'"
   ]
  },
  {
   "cell_type": "code",
   "execution_count": 26,
   "metadata": {},
   "outputs": [],
   "source": [
    "sdata = \"\\n\".join(ldata)"
   ]
  },
  {
   "cell_type": "markdown",
   "metadata": {},
   "source": [
    "#### 3.7: write string to a new file"
   ]
  },
  {
   "cell_type": "code",
   "execution_count": 29,
   "metadata": {},
   "outputs": [],
   "source": [
    "with open(\"iris-data-clean.csv\", \"w\") as out:\n",
    "    out.write(sdata)"
   ]
  },
  {
   "cell_type": "markdown",
   "metadata": {},
   "source": [
    "#### 4.1: func to return random string of DNA"
   ]
  },
  {
   "cell_type": "code",
   "execution_count": 30,
   "metadata": {},
   "outputs": [],
   "source": [
    "import random\n",
    "def random_dna(tlen):\n",
    "    return \"\".join([random.choice(\"ACGT\") for i in range(tlen)])\n",
    "    "
   ]
  },
  {
   "cell_type": "markdown",
   "metadata": {},
   "source": [
    "#### 4.2: func to return frequency of bases"
   ]
  },
  {
   "cell_type": "code",
   "execution_count": 50,
   "metadata": {},
   "outputs": [],
   "source": [
    "def dna_freq(seq):\n",
    "    \"returns tuples of (base, freq) for ACTG\"\n",
    "    res = []\n",
    "    for base in \"ACTG\":\n",
    "        res.append((base, seq.count(base)/len(seq)))\n",
    "    return res"
   ]
  },
  {
   "cell_type": "markdown",
   "metadata": {},
   "source": [
    "#### 4.3: func to concatenate two sequences and return "
   ]
  },
  {
   "cell_type": "code",
   "execution_count": 36,
   "metadata": {},
   "outputs": [],
   "source": [
    "def concat_seqs(seq1, seq2):\n",
    "    return seq1 + seq2"
   ]
  },
  {
   "cell_type": "markdown",
   "metadata": {},
   "source": [
    "#### 4.4: func to trim two seqs to same length"
   ]
  },
  {
   "cell_type": "code",
   "execution_count": 37,
   "metadata": {},
   "outputs": [],
   "source": [
    "def trim_seqs(seq1, seq2):\n",
    "    slen = min([len(i) for i in (seq1, seq2)])\n",
    "    return seq1[:slen], seq2[:slen]"
   ]
  },
  {
   "cell_type": "markdown",
   "metadata": {},
   "source": [
    "#### 4.5 func to calculate percent similarity and uses func above"
   ]
  },
  {
   "cell_type": "code",
   "execution_count": 51,
   "metadata": {},
   "outputs": [],
   "source": [
    "def calc_similarity(seq1, seq2):\n",
    "    \"returns float of percent similarity for two seqs over shared length\"\n",
    "    seq1, seq2 = trim_seqs(seq1, seq2)\n",
    "    diffs = 0\n",
    "    for idx in range(len(seq1)):\n",
    "        if seq1[idx] != seq2[idx]:\n",
    "            diffs += 1\n",
    "    return (len(seq1) - diffs) / len(seq1)"
   ]
  },
  {
   "cell_type": "markdown",
   "metadata": {},
   "source": [
    "### Test functions"
   ]
  },
  {
   "cell_type": "code",
   "execution_count": 52,
   "metadata": {},
   "outputs": [
    {
     "data": {
      "text/plain": [
       "'ACTGACAGTCTATAGGGACCACGTTTCTCGGATTCTATGTACTTGTTAAACGGTAGTGGAGTGCCGGTTTATGCTGTCAA'"
      ]
     },
     "execution_count": 52,
     "metadata": {},
     "output_type": "execute_result"
    }
   ],
   "source": [
    "seq = random_dna(80)\n",
    "seq"
   ]
  },
  {
   "cell_type": "code",
   "execution_count": 53,
   "metadata": {},
   "outputs": [
    {
     "data": {
      "text/plain": [
       "[('A', 0.225), ('C', 0.1875), ('T', 0.325), ('G', 0.2625)]"
      ]
     },
     "execution_count": 53,
     "metadata": {},
     "output_type": "execute_result"
    }
   ],
   "source": [
    "freq = dna_freq(seq)\n",
    "freq"
   ]
  },
  {
   "cell_type": "code",
   "execution_count": 54,
   "metadata": {},
   "outputs": [
    {
     "data": {
      "text/plain": [
       "('AAAACCGTATAACAGCATCAACTCTAATGACTCTCCTTAAAGGAAGCGTGGTCGACACGCGAACATTAAGCGTAAAACTG',\n",
       " 'GCTCCATGAATCAAGATATCGCTAGTAACGAGTTGGGAACGCGAGGTCCTGGATCGAGTGAACGCCACATACAACCAGCT')"
      ]
     },
     "execution_count": 54,
     "metadata": {},
     "output_type": "execute_result"
    }
   ],
   "source": [
    "seq1 = random_dna(80)\n",
    "seq2 = random_dna(80)\n",
    "trim_seqs(seq1, seq2)"
   ]
  },
  {
   "cell_type": "code",
   "execution_count": 55,
   "metadata": {},
   "outputs": [
    {
     "data": {
      "text/plain": [
       "0.225"
      ]
     },
     "execution_count": 55,
     "metadata": {},
     "output_type": "execute_result"
    }
   ],
   "source": [
    "calc_similarity(seq1, seq2)"
   ]
  }
 ],
 "metadata": {
  "kernelspec": {
   "display_name": "Python 3",
   "language": "python",
   "name": "python3"
  },
  "language_info": {
   "codemirror_mode": {
    "name": "ipython",
    "version": 3
   },
   "file_extension": ".py",
   "mimetype": "text/x-python",
   "name": "python",
   "nbconvert_exporter": "python",
   "pygments_lexer": "ipython3",
   "version": "3.6.3"
  }
 },
 "nbformat": 4,
 "nbformat_minor": 2
}

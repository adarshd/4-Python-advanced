{
 "cells": [
  {
   "cell_type": "markdown",
   "metadata": {},
   "source": [
    "## Dictionaries"
   ]
  },
  {
   "cell_type": "markdown",
   "metadata": {},
   "source": [
    "Dictionaries are one of the most useful objects in Python. They provide mapping between (key,value) pairs.  They are super fast and efficient while also being very flexible for storing different types of data, and of various sizes. Once you master dictionaries you'll find yourself using them all the time.  "
   ]
  },
  {
   "cell_type": "markdown",
   "metadata": {},
   "source": [
    "### Working with dictionaries\n",
    "A common use case for dictionaries is for storing data when you do not know what type of labels might arise, or how many of them in total there will be in a data set. For this, a common implementation is to use a dictionary with strings for the keys and a list or integer counter for the values. This way new observed labels can be stored as dictionary keys, and values matching to those labels can be appended to the values list or increment counter. Below are  examples.   "
   ]
  },
  {
   "cell_type": "markdown",
   "metadata": {},
   "source": [
    "### An example\n",
    "Let's create a histogram by sampling how many times a value is sampled from a normal distribution. Here, we don't know exactly which values are going to be sampled, so it is useful that we can create new dictionary keys as we continue sampling random values. The simple conditional statement asks `if key in dict` to know whether the key has already been added, if not, then a starting value is created in the `else` clause. This syntax is very commonly used. Here we create a simple counter by storing 1 the first time the key is obseverd and incrementing the value by one each time it is observed subsequently. "
   ]
  },
  {
   "cell_type": "code",
   "execution_count": 1,
   "metadata": {},
   "outputs": [],
   "source": [
    "## create an empty dictionary and fill it as we iterate over 2000 values\n",
    "hist = dict()\n",
    "import random\n",
    "for item in range(2000): #do this 2000 times\n",
    "    key = int(random.normalvariate(50, 2)) #Create keys that are randomly selected from a distribution with 50 as the mean and 2 as stdev.\n",
    "    if key in hist: #Stores the frequency of each key as the value. \n",
    "        hist[key] += 1\n",
    "    else:\n",
    "        hist[key] = 1"
   ]
  },
  {
   "cell_type": "code",
   "execution_count": 31,
   "metadata": {},
   "outputs": [
    {
     "data": {
      "text/plain": [
       "{42: 2,\n",
       " 43: 1,\n",
       " 44: 8,\n",
       " 45: 31,\n",
       " 46: 102,\n",
       " 47: 191,\n",
       " 48: 309,\n",
       " 49: 375,\n",
       " 50: 360,\n",
       " 51: 316,\n",
       " 52: 186,\n",
       " 53: 80,\n",
       " 54: 22,\n",
       " 55: 14,\n",
       " 56: 2,\n",
       " 58: 1}"
      ]
     },
     "execution_count": 31,
     "metadata": {},
     "output_type": "execute_result"
    }
   ],
   "source": [
    "hist"
   ]
  },
  {
   "cell_type": "markdown",
   "metadata": {},
   "source": [
    "### Another example\n",
    "You're a spy and you've bugged a foreign embassy. You've written a program to record the phone number for all incoming calls and you want to also store the times at which the calls are made. You could store this information in a number of ways, but a dictionary would likely be the most efficient. This is for the same reasons as above, we do not know how many unique callers there will be (keys of the dictionary), and we want to use a flexible data type to store the values since some callers may make many calls (we can use a list as the dictionary value). \n",
    "\n",
    "Here we are also introduced to the `datetime` package from the standard library, which is a great tool for dealing with dates and times. \n",
    "\n"
   ]
  },
  {
   "cell_type": "code",
   "execution_count": 2,
   "metadata": {},
   "outputs": [],
   "source": [
    "import datetime   # used to convert time and dates\n",
    "import random     # generate random stuff"
   ]
  },
  {
   "cell_type": "code",
   "execution_count": 3,
   "metadata": {},
   "outputs": [
    {
     "data": {
      "text/plain": [
       "'09/20/2013 08:30 AM'"
      ]
     },
     "execution_count": 3,
     "metadata": {},
     "output_type": "execute_result"
    }
   ],
   "source": [
    "# example: the datetime package formats date and time from integers to strings\n",
    "startDate = datetime.datetime(2013, 9, 20, 8, 30)\n",
    "startDate.strftime(\"%m/%d/%Y %I:%M %p\")"
   ]
  },
  {
   "cell_type": "markdown",
   "metadata": {},
   "source": [
    "Before we go through all the work of breaking into the embassy and bugging it, however, it's probably best to test out our code and make sure it works. The function below simulates data like we expect to observe. It will return a dictionary with a string of randomly generated numbers as the phone numbers, and a list of formatted strings for the date and time of the phone calls. Notice that we first create an empty dictionary that we plan to fill. Then we iterate over each caller and generate a random number of calls. Then we store the calls in the dictionary by appending subsequent calls to a list as the value for the dictionary. "
   ]
  },
  {
   "cell_type": "code",
   "execution_count": 4,
   "metadata": {},
   "outputs": [],
   "source": [
    "\n",
    "def generate_random_call_dict():\n",
    "    \"This func simulates call data and stores it in a dictionary\"\n",
    "    \n",
    "    ## a dictionary for storing calls as {phone-number: [time[0], time[1], ...]}\n",
    "    calldict = {}\n",
    "    \n",
    "    ## number of callers\n",
    "    ncallers = random.randint(1, 15)\n",
    "    for caller in range(ncallers):\n",
    "\n",
    "        ## start date for recording calls\n",
    "        start_date = datetime.datetime(2018, 2, 1, 8)\n",
    "        calltime = start_date\n",
    "        \n",
    "        ## generate random 10-digit phone number for caller\n",
    "        phone_number = \"\".join([str(random.randint(0, 9)) for i in range(10)])\n",
    "        \n",
    "        ## number of times this caller called\n",
    "        ncalls = random.randint(1, 10)\n",
    "        for call in range(ncalls):\n",
    "            \n",
    "            ## get time of the call and convert to str\n",
    "            calltime += datetime.timedelta(minutes=random.randint(0, 5000))\n",
    "            callstr = calltime.strftime(\"%m/%d/%Y %I:%M %p\")\n",
    "            \n",
    "            ## store caller and time to dictionary\n",
    "            if phone_number in calldict:\n",
    "                calldict[phone_number].append(callstr)\n",
    "            else:\n",
    "                calldict[phone_number] = [callstr]\n",
    "    return calldict\n"
   ]
  },
  {
   "cell_type": "markdown",
   "metadata": {},
   "source": [
    "#### Testing the function\n",
    "We can see in the examples below that a dictionary is an efficient way to store these data since we do not need to know how many phone callers there will be ahead of time, and we can append to the list of times infinitely to store information for how ever many times a caller calls. "
   ]
  },
  {
   "cell_type": "code",
   "execution_count": 5,
   "metadata": {},
   "outputs": [
    {
     "data": {
      "text/plain": [
       "{'4164106885': ['02/01/2018 03:05 PM',\n",
       "  '02/02/2018 12:52 PM',\n",
       "  '02/03/2018 07:18 AM',\n",
       "  '02/05/2018 05:20 AM',\n",
       "  '02/08/2018 09:55 AM',\n",
       "  '02/10/2018 07:29 AM']}"
      ]
     },
     "execution_count": 5,
     "metadata": {},
     "output_type": "execute_result"
    }
   ],
   "source": [
    "## in this case there is only one caller\n",
    "random.seed(123) #Creates a random number from a hash.\n",
    "generate_random_call_dict()"
   ]
  },
  {
   "cell_type": "code",
   "execution_count": 11,
   "metadata": {},
   "outputs": [
    {
     "data": {
      "text/plain": [
       "{'0143476124': ['02/02/2018 07:03 PM'],\n",
       " '1328862584': ['02/01/2018 12:06 PM', '02/03/2018 03:08 AM'],\n",
       " '2405739925': ['02/01/2018 08:45 PM'],\n",
       " '5624201599': ['02/03/2018 02:02 AM',\n",
       "  '02/05/2018 02:39 AM',\n",
       "  '02/06/2018 11:55 PM',\n",
       "  '02/08/2018 03:19 PM',\n",
       "  '02/09/2018 09:32 PM',\n",
       "  '02/11/2018 03:19 PM'],\n",
       " '7011893310': ['02/03/2018 10:54 AM',\n",
       "  '02/06/2018 07:43 PM',\n",
       "  '02/09/2018 06:01 PM',\n",
       "  '02/12/2018 03:35 PM',\n",
       "  '02/14/2018 10:55 AM',\n",
       "  '02/16/2018 03:43 PM',\n",
       "  '02/17/2018 05:41 PM',\n",
       "  '02/17/2018 11:20 PM'],\n",
       " '7102666595': ['02/04/2018 06:35 AM', '02/04/2018 07:05 PM'],\n",
       " '7394334479': ['02/02/2018 05:52 AM', '02/02/2018 02:54 PM'],\n",
       " '8064972403': ['02/03/2018 06:14 AM',\n",
       "  '02/05/2018 07:33 PM',\n",
       "  '02/07/2018 01:02 AM',\n",
       "  '02/08/2018 10:52 PM']}"
      ]
     },
     "execution_count": 11,
     "metadata": {},
     "output_type": "execute_result"
    }
   ],
   "source": [
    "## in this case there are 8 callers with different numbers of calls\n",
    "random.seed(54321)\n",
    "generate_random_call_dict()"
   ]
  },
  {
   "cell_type": "markdown",
   "metadata": {},
   "source": [
    "### Dictionaries for labeled values\n",
    "The most useful purpose for dictionaries is the clear case where you have many values stored with different labels. An example of this that we are likely to encounter in biological data is information that we measure on individuals, populations, or species. We will eventually learn to use objects called DataFrames for storing data in labeled rows and columns, which is the way that most R users are familiar with accessing data. A dictionary is like a single row or column of a dataframe. Dictionaries are a powerful first tool for parsing data and formatting it before you later put it into a DataFrame like object for statistical analyses. "
   ]
  },
  {
   "cell_type": "markdown",
   "metadata": {},
   "source": [
    "Here we will create a dictionary by combining information from several sorted lists. "
   ]
  },
  {
   "cell_type": "code",
   "execution_count": 15,
   "metadata": {},
   "outputs": [],
   "source": [
    "## sorted lists of names and data\n",
    "individuals = ['sample-1', 'sample-2', 'sample-3', 'sample-4']\n",
    "trait1 = [56, 76, 22, 21]\n",
    "trait2 = ['green', 'green', 'red', 'red']\n",
    "trait3 = ['angry', 'docile', 'angry', 'docile']\n",
    "\n",
    "## organize into a dictionary\n",
    "datadict = {}\n",
    "for i in range(4): #Do this 4 times\n",
    "    datadict[individuals[i]] = [trait1[i], trait2[i], trait3[i]] #can you use zip() here?"
   ]
  },
  {
   "cell_type": "code",
   "execution_count": 16,
   "metadata": {},
   "outputs": [
    {
     "data": {
      "text/plain": [
       "{'sample-1': [56, 'green', 'angry'],\n",
       " 'sample-2': [76, 'green', 'docile'],\n",
       " 'sample-3': [22, 'red', 'angry'],\n",
       " 'sample-4': [21, 'red', 'docile']}"
      ]
     },
     "execution_count": 16,
     "metadata": {},
     "output_type": "execute_result"
    }
   ],
   "source": [
    "## show the dictionary data\n",
    "datadict"
   ]
  },
  {
   "cell_type": "code",
   "execution_count": 17,
   "metadata": {},
   "outputs": [
    {
     "name": "stdout",
     "output_type": "stream",
     "text": [
      "('sample-1', [56, 'green', 'angry'])\n",
      "('sample-2', [76, 'green', 'docile'])\n",
      "('sample-3', [22, 'red', 'angry'])\n",
      "('sample-4', [21, 'red', 'docile'])\n"
     ]
    }
   ],
   "source": [
    "## .items() returns key,val pairs as tuples\n",
    "for item in datadict.items():\n",
    "    print(item)"
   ]
  },
  {
   "cell_type": "code",
   "execution_count": 18,
   "metadata": {},
   "outputs": [
    {
     "name": "stdout",
     "output_type": "stream",
     "text": [
      "sample-1\n",
      "sample-2\n",
      "sample-3\n",
      "sample-4\n"
     ]
    }
   ],
   "source": [
    "## .keys() returns just the keys\n",
    "for key in datadict.keys():\n",
    "    print(key)"
   ]
  },
  {
   "cell_type": "code",
   "execution_count": 19,
   "metadata": {},
   "outputs": [
    {
     "name": "stdout",
     "output_type": "stream",
     "text": [
      "[56, 'green', 'angry']\n",
      "[76, 'green', 'docile']\n",
      "[22, 'red', 'angry']\n",
      "[21, 'red', 'docile']\n"
     ]
    }
   ],
   "source": [
    "## .values returns just the values\n",
    "for val in datadict.values():\n",
    "    print(val)"
   ]
  },
  {
   "cell_type": "markdown",
   "metadata": {},
   "source": [
    "### list comprehension\n",
    "Just as with lists, you can create dictionaries using `list comprehension`. This is simply a more efficient way to write code sometimes as opposed to writing a for-loop. "
   ]
  },
  {
   "cell_type": "code",
   "execution_count": 20,
   "metadata": {},
   "outputs": [
    {
     "data": {
      "text/plain": [
       "{'a': 1, 'b': 2, 'c': 3}"
      ]
     },
     "execution_count": 20,
     "metadata": {},
     "output_type": "execute_result"
    }
   ],
   "source": [
    "## this statement constructs a dictionary from a tuple of tuples\n",
    "ddict = {i:j for i, j in (('a', 1), ('b', 2), ('c', 3))}\n",
    "ddict"
   ]
  },
  {
   "cell_type": "code",
   "execution_count": 21,
   "metadata": {},
   "outputs": [
    {
     "data": {
      "text/plain": [
       "{'sample-1': 56, 'sample-2': 76, 'sample-3': 22, 'sample-4': 21}"
      ]
     },
     "execution_count": 21,
     "metadata": {},
     "output_type": "execute_result"
    }
   ],
   "source": [
    "## this statement uses 'zip' to combine two lists into a similar format\n",
    "ddict = {i:j for i,j in zip(individuals, trait1)}\n",
    "ddict"
   ]
  },
  {
   "cell_type": "markdown",
   "metadata": {},
   "source": [
    "### Sets\n",
    "Sets are a type of Python container object that contains `hashed` elements (more on this below), which can be quickly compared to calculate the unique elements in the container, and to compare how many elements are shared between different containers. Sets are created using the command `set()`. "
   ]
  },
  {
   "cell_type": "code",
   "execution_count": 22,
   "metadata": {},
   "outputs": [
    {
     "data": {
      "text/plain": [
       "{'A', 'C', 'G', 'T'}"
      ]
     },
     "execution_count": 22,
     "metadata": {},
     "output_type": "execute_result"
    }
   ],
   "source": [
    "s1 = set(\"ACTGAAGACGGG\")\n",
    "s1"
   ]
  },
  {
   "cell_type": "code",
   "execution_count": 23,
   "metadata": {},
   "outputs": [
    {
     "data": {
      "text/plain": [
       "{'apple', 'banana', 'orange'}"
      ]
     },
     "execution_count": 23,
     "metadata": {},
     "output_type": "execute_result"
    }
   ],
   "source": [
    "s2 = set(['apple', 'apple', 'banana', 'orange'])\n",
    "s2"
   ]
  },
  {
   "cell_type": "code",
   "execution_count": 24,
   "metadata": {},
   "outputs": [],
   "source": [
    "s3 = set([\"AAA\", \"AA\", \"A\"])\n",
    "s4 = set([\"AAA\", \"BB\", \"C\"])"
   ]
  },
  {
   "cell_type": "code",
   "execution_count": 25,
   "metadata": {},
   "outputs": [
    {
     "data": {
      "text/plain": [
       "{'A', 'AA', 'AAA', 'BB', 'C'}"
      ]
     },
     "execution_count": 25,
     "metadata": {},
     "output_type": "execute_result"
    }
   ],
   "source": [
    "## union joins the two sets\n",
    "s3.union(s4)"
   ]
  },
  {
   "cell_type": "code",
   "execution_count": 26,
   "metadata": {},
   "outputs": [
    {
     "data": {
      "text/plain": [
       "{'AAA'}"
      ]
     },
     "execution_count": 26,
     "metadata": {},
     "output_type": "execute_result"
    }
   ],
   "source": [
    "## intersection returns the overlapping elements\n",
    "s3.intersection(s4)"
   ]
  },
  {
   "cell_type": "code",
   "execution_count": 27,
   "metadata": {},
   "outputs": [
    {
     "data": {
      "text/plain": [
       "{'A', 'AA'}"
      ]
     },
     "execution_count": 27,
     "metadata": {},
     "output_type": "execute_result"
    }
   ],
   "source": [
    "## difference returns elements in i not in j\n",
    "s3.difference(s4) #What's in s3 thats not in s4?"
   ]
  },
  {
   "cell_type": "code",
   "execution_count": 28,
   "metadata": {},
   "outputs": [
    {
     "data": {
      "text/plain": [
       "{'BB', 'C'}"
      ]
     },
     "execution_count": 28,
     "metadata": {},
     "output_type": "execute_result"
    }
   ],
   "source": [
    "## difference in the other direction\n",
    "s4.difference(s3)"
   ]
  },
  {
   "cell_type": "markdown",
   "metadata": {},
   "source": [
    "### Hashtables"
   ]
  },
  {
   "cell_type": "markdown",
   "metadata": {},
   "source": [
    "There was an optional link in the Dictionary chapter of your reading this week that goes into a lot of detail about something called `hashtables`. The details of this are fascinating, but fairly dense reading, and I would say that it is not fully necessary to understand hashtables in order to understand Python programming. Nevertheless, a cursory understanding of the concept of hashing can be useful for understanding why Python `set` and `dictionary` objects are so fast. \n",
    "\n",
    "The main concept is that they store elements as a `hashed` value for lookup. This simply means that they use the function `hash()` to convert the element to an integer. This makes it easy to compare whether two elements are the same by simply asking whether the integer is the same. \n"
   ]
  },
  {
   "cell_type": "code",
   "execution_count": 24,
   "metadata": {},
   "outputs": [
    {
     "data": {
      "text/plain": [
       "-4878293508011060437"
      ]
     },
     "execution_count": 24,
     "metadata": {},
     "output_type": "execute_result"
    }
   ],
   "source": [
    "# hash converts an object to an int\n",
    "hash(\"this string here\")"
   ]
  },
  {
   "cell_type": "code",
   "execution_count": 25,
   "metadata": {},
   "outputs": [
    {
     "data": {
      "text/plain": [
       "-918200233322746980"
      ]
     },
     "execution_count": 25,
     "metadata": {},
     "output_type": "execute_result"
    }
   ],
   "source": [
    "# every object will have a unique int\n",
    "hash(\"this string too\")"
   ]
  },
  {
   "cell_type": "code",
   "execution_count": 26,
   "metadata": {},
   "outputs": [
    {
     "data": {
      "text/plain": [
       "True"
      ]
     },
     "execution_count": 26,
     "metadata": {},
     "output_type": "execute_result"
    }
   ],
   "source": [
    "# objects that are the same have the same hash value\n",
    "x = \"this string too\"\n",
    "y = \"this string too\"\n",
    "hash(x) == hash(y)"
   ]
  },
  {
   "cell_type": "markdown",
   "metadata": {},
   "source": [
    "### Searching hashed values is ~5 orders of magnitude faster than searching a list\n",
    "Below we compare the time it takes to search for a single value (the integer 650,000) in a list versus dictionary. Because the dictionary key values are hashed the time to lookup the match is significantly faster. For this reason, no matter how big a dictionary gets the time it takes to find and return a (key, value) pair does not increase significantly. A list, on the other hand, is not efficient to search as it grows very large. \n",
    "\n",
    "\n",
    "Below we use the `%%timeit` magic command to calculate how long different commands take to run. "
   ]
  },
  {
   "cell_type": "code",
   "execution_count": 29,
   "metadata": {},
   "outputs": [],
   "source": [
    "## searching for a number in a list\n",
    "long_list_of_numbers = list(range(int(1e6)))"
   ]
  },
  {
   "cell_type": "code",
   "execution_count": 30,
   "metadata": {},
   "outputs": [
    {
     "name": "stdout",
     "output_type": "stream",
     "text": [
      "6.37 ms ± 76.7 µs per loop (mean ± std. dev. of 7 runs, 100 loops each)\n"
     ]
    }
   ],
   "source": [
    "%%timeit #This is an ipython (jupyter) magic command.\n",
    "## ask if some number is in the list\n",
    "650000 in long_list_of_numbers"
   ]
  },
  {
   "cell_type": "code",
   "execution_count": 31,
   "metadata": {},
   "outputs": [],
   "source": [
    "## dictionary keys \n",
    "import random\n",
    "big_dictionary = {i: random.randint(0, 5) for i in range(int(1e6))}"
   ]
  },
  {
   "cell_type": "code",
   "execution_count": 32,
   "metadata": {},
   "outputs": [
    {
     "data": {
      "text/plain": [
       "{0: 3,\n",
       " 1: 2,\n",
       " 2: 2,\n",
       " 3: 1,\n",
       " 4: 2,\n",
       " 5: 1,\n",
       " 6: 4,\n",
       " 7: 0,\n",
       " 8: 1,\n",
       " 9: 2,\n",
       " 10: 0,\n",
       " 11: 1,\n",
       " 12: 1,\n",
       " 13: 0,\n",
       " 14: 4,\n",
       " 15: 0,\n",
       " 16: 1,\n",
       " 17: 1,\n",
       " 18: 0,\n",
       " 19: 0,\n",
       " 20: 5,\n",
       " 21: 4,\n",
       " 22: 2,\n",
       " 23: 4,\n",
       " 24: 0,\n",
       " 25: 1,\n",
       " 26: 1,\n",
       " 27: 0,\n",
       " 28: 2,\n",
       " 29: 0,\n",
       " 30: 4,\n",
       " 31: 5,\n",
       " 32: 1,\n",
       " 33: 4,\n",
       " 34: 1,\n",
       " 35: 5,\n",
       " 36: 3,\n",
       " 37: 3,\n",
       " 38: 3,\n",
       " 39: 2,\n",
       " 40: 5,\n",
       " 41: 3,\n",
       " 42: 3,\n",
       " 43: 2,\n",
       " 44: 5,\n",
       " 45: 3,\n",
       " 46: 0,\n",
       " 47: 0,\n",
       " 48: 1,\n",
       " 49: 3,\n",
       " 50: 4,\n",
       " 51: 1,\n",
       " 52: 3,\n",
       " 53: 2,\n",
       " 54: 1,\n",
       " 55: 5,\n",
       " 56: 4,\n",
       " 57: 4,\n",
       " 58: 4,\n",
       " 59: 1,\n",
       " 60: 0,\n",
       " 61: 4,\n",
       " 62: 3,\n",
       " 63: 1,\n",
       " 64: 4,\n",
       " 65: 0,\n",
       " 66: 3,\n",
       " 67: 0,\n",
       " 68: 5,\n",
       " 69: 3,\n",
       " 70: 2,\n",
       " 71: 3,\n",
       " 72: 5,\n",
       " 73: 2,\n",
       " 74: 3,\n",
       " 75: 1,\n",
       " 76: 3,\n",
       " 77: 5,\n",
       " 78: 3,\n",
       " 79: 3,\n",
       " 80: 2,\n",
       " 81: 5,\n",
       " 82: 2,\n",
       " 83: 5,\n",
       " 84: 4,\n",
       " 85: 4,\n",
       " 86: 1,\n",
       " 87: 0,\n",
       " 88: 2,\n",
       " 89: 4,\n",
       " 90: 3,\n",
       " 91: 2,\n",
       " 92: 5,\n",
       " 93: 0,\n",
       " 94: 2,\n",
       " 95: 2,\n",
       " 96: 5,\n",
       " 97: 0,\n",
       " 98: 5,\n",
       " 99: 1,\n",
       " 100: 2,\n",
       " 101: 5,\n",
       " 102: 5,\n",
       " 103: 4,\n",
       " 104: 2,\n",
       " 105: 2,\n",
       " 106: 4,\n",
       " 107: 2,\n",
       " 108: 3,\n",
       " 109: 3,\n",
       " 110: 3,\n",
       " 111: 0,\n",
       " 112: 2,\n",
       " 113: 2,\n",
       " 114: 1,\n",
       " 115: 0,\n",
       " 116: 1,\n",
       " 117: 4,\n",
       " 118: 0,\n",
       " 119: 3,\n",
       " 120: 1,\n",
       " 121: 4,\n",
       " 122: 3,\n",
       " 123: 5,\n",
       " 124: 2,\n",
       " 125: 4,\n",
       " 126: 3,\n",
       " 127: 0,\n",
       " 128: 2,\n",
       " 129: 0,\n",
       " 130: 5,\n",
       " 131: 4,\n",
       " 132: 5,\n",
       " 133: 0,\n",
       " 134: 3,\n",
       " 135: 0,\n",
       " 136: 0,\n",
       " 137: 2,\n",
       " 138: 4,\n",
       " 139: 5,\n",
       " 140: 2,\n",
       " 141: 1,\n",
       " 142: 5,\n",
       " 143: 0,\n",
       " 144: 3,\n",
       " 145: 5,\n",
       " 146: 0,\n",
       " 147: 4,\n",
       " 148: 2,\n",
       " 149: 4,\n",
       " 150: 1,\n",
       " 151: 2,\n",
       " 152: 5,\n",
       " 153: 1,\n",
       " 154: 4,\n",
       " 155: 4,\n",
       " 156: 5,\n",
       " 157: 1,\n",
       " 158: 2,\n",
       " 159: 2,\n",
       " 160: 1,\n",
       " 161: 2,\n",
       " 162: 4,\n",
       " 163: 1,\n",
       " 164: 1,\n",
       " 165: 0,\n",
       " 166: 5,\n",
       " 167: 4,\n",
       " 168: 1,\n",
       " 169: 4,\n",
       " 170: 1,\n",
       " 171: 5,\n",
       " 172: 2,\n",
       " 173: 2,\n",
       " 174: 4,\n",
       " 175: 0,\n",
       " 176: 5,\n",
       " 177: 4,\n",
       " 178: 1,\n",
       " 179: 1,\n",
       " 180: 2,\n",
       " 181: 1,\n",
       " 182: 5,\n",
       " 183: 5,\n",
       " 184: 5,\n",
       " 185: 5,\n",
       " 186: 0,\n",
       " 187: 4,\n",
       " 188: 1,\n",
       " 189: 4,\n",
       " 190: 2,\n",
       " 191: 3,\n",
       " 192: 4,\n",
       " 193: 3,\n",
       " 194: 3,\n",
       " 195: 0,\n",
       " 196: 0,\n",
       " 197: 5,\n",
       " 198: 4,\n",
       " 199: 5,\n",
       " 200: 3,\n",
       " 201: 5,\n",
       " 202: 2,\n",
       " 203: 1,\n",
       " 204: 4,\n",
       " 205: 2,\n",
       " 206: 5,\n",
       " 207: 1,\n",
       " 208: 1,\n",
       " 209: 4,\n",
       " 210: 0,\n",
       " 211: 4,\n",
       " 212: 3,\n",
       " 213: 1,\n",
       " 214: 3,\n",
       " 215: 0,\n",
       " 216: 1,\n",
       " 217: 0,\n",
       " 218: 3,\n",
       " 219: 2,\n",
       " 220: 0,\n",
       " 221: 0,\n",
       " 222: 1,\n",
       " 223: 3,\n",
       " 224: 2,\n",
       " 225: 1,\n",
       " 226: 2,\n",
       " 227: 1,\n",
       " 228: 1,\n",
       " 229: 4,\n",
       " 230: 3,\n",
       " 231: 0,\n",
       " 232: 2,\n",
       " 233: 2,\n",
       " 234: 5,\n",
       " 235: 3,\n",
       " 236: 0,\n",
       " 237: 1,\n",
       " 238: 1,\n",
       " 239: 2,\n",
       " 240: 4,\n",
       " 241: 5,\n",
       " 242: 3,\n",
       " 243: 4,\n",
       " 244: 1,\n",
       " 245: 1,\n",
       " 246: 5,\n",
       " 247: 1,\n",
       " 248: 3,\n",
       " 249: 0,\n",
       " 250: 0,\n",
       " 251: 5,\n",
       " 252: 1,\n",
       " 253: 5,\n",
       " 254: 4,\n",
       " 255: 2,\n",
       " 256: 0,\n",
       " 257: 1,\n",
       " 258: 4,\n",
       " 259: 4,\n",
       " 260: 0,\n",
       " 261: 4,\n",
       " 262: 0,\n",
       " 263: 4,\n",
       " 264: 1,\n",
       " 265: 0,\n",
       " 266: 5,\n",
       " 267: 2,\n",
       " 268: 4,\n",
       " 269: 1,\n",
       " 270: 1,\n",
       " 271: 4,\n",
       " 272: 2,\n",
       " 273: 1,\n",
       " 274: 2,\n",
       " 275: 3,\n",
       " 276: 5,\n",
       " 277: 2,\n",
       " 278: 4,\n",
       " 279: 0,\n",
       " 280: 3,\n",
       " 281: 0,\n",
       " 282: 1,\n",
       " 283: 1,\n",
       " 284: 1,\n",
       " 285: 0,\n",
       " 286: 1,\n",
       " 287: 2,\n",
       " 288: 3,\n",
       " 289: 3,\n",
       " 290: 3,\n",
       " 291: 3,\n",
       " 292: 3,\n",
       " 293: 4,\n",
       " 294: 0,\n",
       " 295: 4,\n",
       " 296: 0,\n",
       " 297: 4,\n",
       " 298: 2,\n",
       " 299: 5,\n",
       " 300: 5,\n",
       " 301: 0,\n",
       " 302: 4,\n",
       " 303: 3,\n",
       " 304: 4,\n",
       " 305: 5,\n",
       " 306: 2,\n",
       " 307: 1,\n",
       " 308: 2,\n",
       " 309: 1,\n",
       " 310: 4,\n",
       " 311: 0,\n",
       " 312: 0,\n",
       " 313: 5,\n",
       " 314: 5,\n",
       " 315: 5,\n",
       " 316: 5,\n",
       " 317: 1,\n",
       " 318: 4,\n",
       " 319: 5,\n",
       " 320: 1,\n",
       " 321: 0,\n",
       " 322: 5,\n",
       " 323: 5,\n",
       " 324: 2,\n",
       " 325: 0,\n",
       " 326: 0,\n",
       " 327: 1,\n",
       " 328: 1,\n",
       " 329: 3,\n",
       " 330: 5,\n",
       " 331: 5,\n",
       " 332: 0,\n",
       " 333: 5,\n",
       " 334: 2,\n",
       " 335: 4,\n",
       " 336: 4,\n",
       " 337: 1,\n",
       " 338: 4,\n",
       " 339: 1,\n",
       " 340: 2,\n",
       " 341: 5,\n",
       " 342: 1,\n",
       " 343: 3,\n",
       " 344: 0,\n",
       " 345: 0,\n",
       " 346: 0,\n",
       " 347: 1,\n",
       " 348: 5,\n",
       " 349: 5,\n",
       " 350: 3,\n",
       " 351: 3,\n",
       " 352: 2,\n",
       " 353: 5,\n",
       " 354: 3,\n",
       " 355: 4,\n",
       " 356: 5,\n",
       " 357: 3,\n",
       " 358: 4,\n",
       " 359: 1,\n",
       " 360: 1,\n",
       " 361: 0,\n",
       " 362: 0,\n",
       " 363: 4,\n",
       " 364: 3,\n",
       " 365: 1,\n",
       " 366: 2,\n",
       " 367: 5,\n",
       " 368: 0,\n",
       " 369: 3,\n",
       " 370: 3,\n",
       " 371: 1,\n",
       " 372: 4,\n",
       " 373: 1,\n",
       " 374: 5,\n",
       " 375: 1,\n",
       " 376: 2,\n",
       " 377: 4,\n",
       " 378: 2,\n",
       " 379: 2,\n",
       " 380: 1,\n",
       " 381: 4,\n",
       " 382: 1,\n",
       " 383: 5,\n",
       " 384: 0,\n",
       " 385: 3,\n",
       " 386: 1,\n",
       " 387: 2,\n",
       " 388: 0,\n",
       " 389: 1,\n",
       " 390: 1,\n",
       " 391: 1,\n",
       " 392: 4,\n",
       " 393: 0,\n",
       " 394: 4,\n",
       " 395: 3,\n",
       " 396: 2,\n",
       " 397: 0,\n",
       " 398: 5,\n",
       " 399: 1,\n",
       " 400: 0,\n",
       " 401: 1,\n",
       " 402: 4,\n",
       " 403: 4,\n",
       " 404: 1,\n",
       " 405: 0,\n",
       " 406: 1,\n",
       " 407: 4,\n",
       " 408: 4,\n",
       " 409: 4,\n",
       " 410: 4,\n",
       " 411: 1,\n",
       " 412: 5,\n",
       " 413: 2,\n",
       " 414: 5,\n",
       " 415: 5,\n",
       " 416: 2,\n",
       " 417: 4,\n",
       " 418: 5,\n",
       " 419: 3,\n",
       " 420: 1,\n",
       " 421: 2,\n",
       " 422: 3,\n",
       " 423: 1,\n",
       " 424: 4,\n",
       " 425: 5,\n",
       " 426: 3,\n",
       " 427: 5,\n",
       " 428: 1,\n",
       " 429: 5,\n",
       " 430: 0,\n",
       " 431: 0,\n",
       " 432: 1,\n",
       " 433: 3,\n",
       " 434: 0,\n",
       " 435: 2,\n",
       " 436: 5,\n",
       " 437: 0,\n",
       " 438: 1,\n",
       " 439: 0,\n",
       " 440: 3,\n",
       " 441: 1,\n",
       " 442: 5,\n",
       " 443: 0,\n",
       " 444: 0,\n",
       " 445: 1,\n",
       " 446: 2,\n",
       " 447: 4,\n",
       " 448: 0,\n",
       " 449: 4,\n",
       " 450: 3,\n",
       " 451: 0,\n",
       " 452: 4,\n",
       " 453: 5,\n",
       " 454: 5,\n",
       " 455: 1,\n",
       " 456: 1,\n",
       " 457: 0,\n",
       " 458: 0,\n",
       " 459: 5,\n",
       " 460: 2,\n",
       " 461: 5,\n",
       " 462: 2,\n",
       " 463: 3,\n",
       " 464: 5,\n",
       " 465: 1,\n",
       " 466: 3,\n",
       " 467: 2,\n",
       " 468: 1,\n",
       " 469: 1,\n",
       " 470: 3,\n",
       " 471: 1,\n",
       " 472: 3,\n",
       " 473: 1,\n",
       " 474: 0,\n",
       " 475: 5,\n",
       " 476: 1,\n",
       " 477: 5,\n",
       " 478: 3,\n",
       " 479: 3,\n",
       " 480: 2,\n",
       " 481: 1,\n",
       " 482: 1,\n",
       " 483: 5,\n",
       " 484: 4,\n",
       " 485: 1,\n",
       " 486: 5,\n",
       " 487: 3,\n",
       " 488: 1,\n",
       " 489: 0,\n",
       " 490: 1,\n",
       " 491: 2,\n",
       " 492: 4,\n",
       " 493: 3,\n",
       " 494: 0,\n",
       " 495: 2,\n",
       " 496: 2,\n",
       " 497: 4,\n",
       " 498: 4,\n",
       " 499: 4,\n",
       " 500: 4,\n",
       " 501: 2,\n",
       " 502: 4,\n",
       " 503: 2,\n",
       " 504: 0,\n",
       " 505: 2,\n",
       " 506: 0,\n",
       " 507: 1,\n",
       " 508: 1,\n",
       " 509: 3,\n",
       " 510: 0,\n",
       " 511: 2,\n",
       " 512: 0,\n",
       " 513: 0,\n",
       " 514: 5,\n",
       " 515: 3,\n",
       " 516: 5,\n",
       " 517: 2,\n",
       " 518: 5,\n",
       " 519: 4,\n",
       " 520: 3,\n",
       " 521: 3,\n",
       " 522: 0,\n",
       " 523: 3,\n",
       " 524: 2,\n",
       " 525: 2,\n",
       " 526: 5,\n",
       " 527: 2,\n",
       " 528: 4,\n",
       " 529: 2,\n",
       " 530: 5,\n",
       " 531: 4,\n",
       " 532: 3,\n",
       " 533: 1,\n",
       " 534: 2,\n",
       " 535: 4,\n",
       " 536: 3,\n",
       " 537: 5,\n",
       " 538: 4,\n",
       " 539: 5,\n",
       " 540: 0,\n",
       " 541: 1,\n",
       " 542: 3,\n",
       " 543: 5,\n",
       " 544: 4,\n",
       " 545: 2,\n",
       " 546: 3,\n",
       " 547: 1,\n",
       " 548: 3,\n",
       " 549: 1,\n",
       " 550: 5,\n",
       " 551: 3,\n",
       " 552: 2,\n",
       " 553: 3,\n",
       " 554: 5,\n",
       " 555: 4,\n",
       " 556: 4,\n",
       " 557: 0,\n",
       " 558: 4,\n",
       " 559: 3,\n",
       " 560: 0,\n",
       " 561: 3,\n",
       " 562: 5,\n",
       " 563: 3,\n",
       " 564: 2,\n",
       " 565: 3,\n",
       " 566: 5,\n",
       " 567: 2,\n",
       " 568: 3,\n",
       " 569: 3,\n",
       " 570: 5,\n",
       " 571: 2,\n",
       " 572: 5,\n",
       " 573: 1,\n",
       " 574: 2,\n",
       " 575: 3,\n",
       " 576: 4,\n",
       " 577: 4,\n",
       " 578: 1,\n",
       " 579: 4,\n",
       " 580: 0,\n",
       " 581: 0,\n",
       " 582: 4,\n",
       " 583: 5,\n",
       " 584: 5,\n",
       " 585: 0,\n",
       " 586: 0,\n",
       " 587: 1,\n",
       " 588: 3,\n",
       " 589: 4,\n",
       " 590: 2,\n",
       " 591: 2,\n",
       " 592: 3,\n",
       " 593: 4,\n",
       " 594: 0,\n",
       " 595: 2,\n",
       " 596: 1,\n",
       " 597: 5,\n",
       " 598: 1,\n",
       " 599: 1,\n",
       " 600: 2,\n",
       " 601: 4,\n",
       " 602: 1,\n",
       " 603: 4,\n",
       " 604: 1,\n",
       " 605: 1,\n",
       " 606: 0,\n",
       " 607: 1,\n",
       " 608: 2,\n",
       " 609: 5,\n",
       " 610: 5,\n",
       " 611: 1,\n",
       " 612: 4,\n",
       " 613: 4,\n",
       " 614: 1,\n",
       " 615: 3,\n",
       " 616: 4,\n",
       " 617: 2,\n",
       " 618: 2,\n",
       " 619: 3,\n",
       " 620: 2,\n",
       " 621: 5,\n",
       " 622: 2,\n",
       " 623: 2,\n",
       " 624: 3,\n",
       " 625: 3,\n",
       " 626: 0,\n",
       " 627: 4,\n",
       " 628: 0,\n",
       " 629: 4,\n",
       " 630: 3,\n",
       " 631: 2,\n",
       " 632: 5,\n",
       " 633: 1,\n",
       " 634: 1,\n",
       " 635: 0,\n",
       " 636: 4,\n",
       " 637: 0,\n",
       " 638: 2,\n",
       " 639: 1,\n",
       " 640: 5,\n",
       " 641: 5,\n",
       " 642: 5,\n",
       " 643: 3,\n",
       " 644: 5,\n",
       " 645: 4,\n",
       " 646: 4,\n",
       " 647: 5,\n",
       " 648: 3,\n",
       " 649: 5,\n",
       " 650: 4,\n",
       " 651: 1,\n",
       " 652: 1,\n",
       " 653: 1,\n",
       " 654: 4,\n",
       " 655: 2,\n",
       " 656: 4,\n",
       " 657: 3,\n",
       " 658: 5,\n",
       " 659: 0,\n",
       " 660: 5,\n",
       " 661: 3,\n",
       " 662: 0,\n",
       " 663: 5,\n",
       " 664: 4,\n",
       " 665: 4,\n",
       " 666: 2,\n",
       " 667: 2,\n",
       " 668: 5,\n",
       " 669: 4,\n",
       " 670: 3,\n",
       " 671: 5,\n",
       " 672: 0,\n",
       " 673: 0,\n",
       " 674: 0,\n",
       " 675: 1,\n",
       " 676: 0,\n",
       " 677: 3,\n",
       " 678: 5,\n",
       " 679: 5,\n",
       " 680: 0,\n",
       " 681: 3,\n",
       " 682: 2,\n",
       " 683: 5,\n",
       " 684: 0,\n",
       " 685: 5,\n",
       " 686: 5,\n",
       " 687: 2,\n",
       " 688: 0,\n",
       " 689: 0,\n",
       " 690: 3,\n",
       " 691: 2,\n",
       " 692: 4,\n",
       " 693: 3,\n",
       " 694: 3,\n",
       " 695: 5,\n",
       " 696: 2,\n",
       " 697: 0,\n",
       " 698: 5,\n",
       " 699: 4,\n",
       " 700: 1,\n",
       " 701: 5,\n",
       " 702: 5,\n",
       " 703: 2,\n",
       " 704: 5,\n",
       " 705: 3,\n",
       " 706: 3,\n",
       " 707: 2,\n",
       " 708: 1,\n",
       " 709: 3,\n",
       " 710: 3,\n",
       " 711: 5,\n",
       " 712: 0,\n",
       " 713: 0,\n",
       " 714: 2,\n",
       " 715: 0,\n",
       " 716: 2,\n",
       " 717: 4,\n",
       " 718: 4,\n",
       " 719: 3,\n",
       " 720: 5,\n",
       " 721: 1,\n",
       " 722: 4,\n",
       " 723: 1,\n",
       " 724: 0,\n",
       " 725: 5,\n",
       " 726: 4,\n",
       " 727: 1,\n",
       " 728: 4,\n",
       " 729: 3,\n",
       " 730: 4,\n",
       " 731: 0,\n",
       " 732: 0,\n",
       " 733: 4,\n",
       " 734: 2,\n",
       " 735: 5,\n",
       " 736: 3,\n",
       " 737: 4,\n",
       " 738: 1,\n",
       " 739: 2,\n",
       " 740: 4,\n",
       " 741: 5,\n",
       " 742: 5,\n",
       " 743: 0,\n",
       " 744: 2,\n",
       " 745: 2,\n",
       " 746: 2,\n",
       " 747: 1,\n",
       " 748: 0,\n",
       " 749: 1,\n",
       " 750: 4,\n",
       " 751: 5,\n",
       " 752: 4,\n",
       " 753: 0,\n",
       " 754: 3,\n",
       " 755: 0,\n",
       " 756: 5,\n",
       " 757: 1,\n",
       " 758: 5,\n",
       " 759: 2,\n",
       " 760: 5,\n",
       " 761: 4,\n",
       " 762: 5,\n",
       " 763: 5,\n",
       " 764: 2,\n",
       " 765: 1,\n",
       " 766: 2,\n",
       " 767: 3,\n",
       " 768: 1,\n",
       " 769: 1,\n",
       " 770: 4,\n",
       " 771: 2,\n",
       " 772: 0,\n",
       " 773: 5,\n",
       " 774: 0,\n",
       " 775: 2,\n",
       " 776: 4,\n",
       " 777: 4,\n",
       " 778: 5,\n",
       " 779: 2,\n",
       " 780: 4,\n",
       " 781: 1,\n",
       " 782: 2,\n",
       " 783: 5,\n",
       " 784: 3,\n",
       " 785: 0,\n",
       " 786: 4,\n",
       " 787: 0,\n",
       " 788: 4,\n",
       " 789: 3,\n",
       " 790: 5,\n",
       " 791: 3,\n",
       " 792: 5,\n",
       " 793: 0,\n",
       " 794: 5,\n",
       " 795: 2,\n",
       " 796: 4,\n",
       " 797: 1,\n",
       " 798: 1,\n",
       " 799: 3,\n",
       " 800: 1,\n",
       " 801: 5,\n",
       " 802: 1,\n",
       " 803: 4,\n",
       " 804: 4,\n",
       " 805: 3,\n",
       " 806: 0,\n",
       " 807: 1,\n",
       " 808: 0,\n",
       " 809: 0,\n",
       " 810: 4,\n",
       " 811: 5,\n",
       " 812: 3,\n",
       " 813: 2,\n",
       " 814: 4,\n",
       " 815: 0,\n",
       " 816: 2,\n",
       " 817: 5,\n",
       " 818: 2,\n",
       " 819: 3,\n",
       " 820: 3,\n",
       " 821: 3,\n",
       " 822: 2,\n",
       " 823: 0,\n",
       " 824: 1,\n",
       " 825: 3,\n",
       " 826: 1,\n",
       " 827: 0,\n",
       " 828: 1,\n",
       " 829: 0,\n",
       " 830: 2,\n",
       " 831: 3,\n",
       " 832: 5,\n",
       " 833: 1,\n",
       " 834: 1,\n",
       " 835: 1,\n",
       " 836: 4,\n",
       " 837: 0,\n",
       " 838: 1,\n",
       " 839: 5,\n",
       " 840: 4,\n",
       " 841: 1,\n",
       " 842: 3,\n",
       " 843: 5,\n",
       " 844: 5,\n",
       " 845: 3,\n",
       " 846: 3,\n",
       " 847: 4,\n",
       " 848: 4,\n",
       " 849: 1,\n",
       " 850: 2,\n",
       " 851: 2,\n",
       " 852: 5,\n",
       " 853: 4,\n",
       " 854: 5,\n",
       " 855: 2,\n",
       " 856: 5,\n",
       " 857: 3,\n",
       " 858: 5,\n",
       " 859: 1,\n",
       " 860: 5,\n",
       " 861: 0,\n",
       " 862: 5,\n",
       " 863: 3,\n",
       " 864: 5,\n",
       " 865: 5,\n",
       " 866: 3,\n",
       " 867: 3,\n",
       " 868: 4,\n",
       " 869: 5,\n",
       " 870: 1,\n",
       " 871: 1,\n",
       " 872: 3,\n",
       " 873: 2,\n",
       " 874: 2,\n",
       " 875: 0,\n",
       " 876: 3,\n",
       " 877: 1,\n",
       " 878: 3,\n",
       " 879: 2,\n",
       " 880: 4,\n",
       " 881: 5,\n",
       " 882: 2,\n",
       " 883: 1,\n",
       " 884: 2,\n",
       " 885: 2,\n",
       " 886: 3,\n",
       " 887: 4,\n",
       " 888: 1,\n",
       " 889: 5,\n",
       " 890: 4,\n",
       " 891: 0,\n",
       " 892: 4,\n",
       " 893: 3,\n",
       " 894: 4,\n",
       " 895: 2,\n",
       " 896: 4,\n",
       " 897: 0,\n",
       " 898: 4,\n",
       " 899: 4,\n",
       " 900: 2,\n",
       " 901: 1,\n",
       " 902: 5,\n",
       " 903: 3,\n",
       " 904: 5,\n",
       " 905: 0,\n",
       " 906: 4,\n",
       " 907: 4,\n",
       " 908: 2,\n",
       " 909: 4,\n",
       " 910: 5,\n",
       " 911: 2,\n",
       " 912: 5,\n",
       " 913: 2,\n",
       " 914: 0,\n",
       " 915: 3,\n",
       " 916: 1,\n",
       " 917: 3,\n",
       " 918: 5,\n",
       " 919: 4,\n",
       " 920: 0,\n",
       " 921: 0,\n",
       " 922: 1,\n",
       " 923: 3,\n",
       " 924: 4,\n",
       " 925: 1,\n",
       " 926: 3,\n",
       " 927: 5,\n",
       " 928: 5,\n",
       " 929: 1,\n",
       " 930: 2,\n",
       " 931: 3,\n",
       " 932: 4,\n",
       " 933: 0,\n",
       " 934: 1,\n",
       " 935: 2,\n",
       " 936: 2,\n",
       " 937: 2,\n",
       " 938: 4,\n",
       " 939: 5,\n",
       " 940: 3,\n",
       " 941: 4,\n",
       " 942: 5,\n",
       " 943: 0,\n",
       " 944: 5,\n",
       " 945: 2,\n",
       " 946: 0,\n",
       " 947: 5,\n",
       " 948: 5,\n",
       " 949: 1,\n",
       " 950: 5,\n",
       " 951: 2,\n",
       " 952: 5,\n",
       " 953: 4,\n",
       " 954: 1,\n",
       " 955: 5,\n",
       " 956: 2,\n",
       " 957: 0,\n",
       " 958: 1,\n",
       " 959: 3,\n",
       " 960: 3,\n",
       " 961: 2,\n",
       " 962: 3,\n",
       " 963: 0,\n",
       " 964: 3,\n",
       " 965: 4,\n",
       " 966: 5,\n",
       " 967: 5,\n",
       " 968: 1,\n",
       " 969: 0,\n",
       " 970: 3,\n",
       " 971: 3,\n",
       " 972: 1,\n",
       " 973: 3,\n",
       " 974: 3,\n",
       " 975: 1,\n",
       " 976: 3,\n",
       " 977: 3,\n",
       " 978: 3,\n",
       " 979: 5,\n",
       " 980: 3,\n",
       " 981: 5,\n",
       " 982: 0,\n",
       " 983: 0,\n",
       " 984: 4,\n",
       " 985: 2,\n",
       " 986: 5,\n",
       " 987: 5,\n",
       " 988: 0,\n",
       " 989: 3,\n",
       " 990: 5,\n",
       " 991: 4,\n",
       " 992: 3,\n",
       " 993: 5,\n",
       " 994: 2,\n",
       " 995: 0,\n",
       " 996: 5,\n",
       " 997: 3,\n",
       " 998: 4,\n",
       " 999: 0,\n",
       " ...}"
      ]
     },
     "execution_count": 32,
     "metadata": {},
     "output_type": "execute_result"
    }
   ],
   "source": [
    "big_dictionary"
   ]
  },
  {
   "cell_type": "code",
   "execution_count": 33,
   "metadata": {},
   "outputs": [
    {
     "name": "stdout",
     "output_type": "stream",
     "text": [
      "96.6 ns ± 1.88 ns per loop (mean ± std. dev. of 7 runs, 10000000 loops each)\n"
     ]
    }
   ],
   "source": [
    "%%timeit\n",
    "## ask if some number is in the dictionary keys\n",
    "big_dictionary.get(6500000)"
   ]
  },
  {
   "cell_type": "markdown",
   "metadata": {},
   "source": [
    "### Limitations on hashing\n",
    "This comes with some limitations, though. Unlike lists, the keys of a dictionary must be unique, you cannot have repeated values. This is because dictionary keys are just like the elements in a `set` object, they are unique hashed values. Only immutable objects can be hashed, since otherwise when you mutated the object the hash would need to be changed as well. For this reason, `lists` are not hashable, but `strings` and `tuples` are. "
   ]
  },
  {
   "cell_type": "markdown",
   "metadata": {},
   "source": [
    "### Hash tables in genomics"
   ]
  },
  {
   "cell_type": "markdown",
   "metadata": {},
   "source": [
    "Interestingly, hashtables are big deal in genomics since they allow us to very quickly compare a number of strings (like DNA) and ask whether they are identical or not. Most programs for mapping reads to genome use methods of hashing to make the process super fast. We'll try an example of this in the next notebook. "
   ]
  }
 ],
 "metadata": {
  "kernelspec": {
   "display_name": "Python 3",
   "language": "python",
   "name": "python3"
  },
  "language_info": {
   "codemirror_mode": {
    "name": "ipython",
    "version": 3
   },
   "file_extension": ".py",
   "mimetype": "text/x-python",
   "name": "python",
   "nbconvert_exporter": "python",
   "pygments_lexer": "ipython3",
   "version": "3.6.3"
  }
 },
 "nbformat": 4,
 "nbformat_minor": 2
}
